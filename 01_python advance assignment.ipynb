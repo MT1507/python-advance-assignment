{
 "cells": [
  {
   "cell_type": "markdown",
   "id": "e313be5f",
   "metadata": {},
   "source": [
    "Q 1. What is the purpose of Python&#39;s OOP?"
   ]
  },
  {
   "cell_type": "markdown",
   "id": "aabf5112",
   "metadata": {},
   "source": [
    "ans :\n"
   ]
  },
  {
   "cell_type": "markdown",
   "id": "b7573d6e",
   "metadata": {},
   "source": [
    "Object-oriented programming aims to implement real-world entities like inheritance, hiding, polymorphism etc. in programming. The main aim of OOP is to bind together the data and the functions that operate on them so that no other part of the code can access this data except that function."
   ]
  },
  {
   "cell_type": "markdown",
   "id": "8ae0c975",
   "metadata": {},
   "source": [
    "Q 2. Where does an inheritance search look for an attribute?"
   ]
  },
  {
   "cell_type": "markdown",
   "id": "3b7c091a",
   "metadata": {},
   "source": [
    "ans :"
   ]
  },
  {
   "cell_type": "markdown",
   "id": "6c48550e",
   "metadata": {},
   "source": [
    "The whole point of a namespace tool like the class statement is to support name inheritance. In Python, inheritance happens when an object is qualified, and involves searching an attribute definition tree (one or more namespaces). Every time you use an expression of the form object."
   ]
  },
  {
   "cell_type": "markdown",
   "id": "418c3268",
   "metadata": {},
   "source": [
    "Q 3. How do you distinguish between a class object and an instance object?"
   ]
  },
  {
   "cell_type": "markdown",
   "id": "2ab16c55",
   "metadata": {},
   "source": [
    "ans :"
   ]
  },
  {
   "cell_type": "markdown",
   "id": "26d35d4b",
   "metadata": {},
   "source": [
    "The class = the blue print. The Object is an actual thing that is built based on the 'blue print' (like the house). An instance is a virtual copy (but not a real copy) of the object."
   ]
  },
  {
   "cell_type": "markdown",
   "id": "e7ebbdd3",
   "metadata": {},
   "source": [
    "Q 4. What makes the first argument in a class’s method function special?"
   ]
  },
  {
   "cell_type": "markdown",
   "id": "a26191f5",
   "metadata": {},
   "source": [
    "ans :\n"
   ]
  },
  {
   "cell_type": "markdown",
   "id": "d2758a07",
   "metadata": {},
   "source": [
    "The calling process is automatic while the receiving process is not (its explicit). This is the reason the first parameter of a function in class must be the object itself. Writing this parameter as self is merely a convention. It is not a keyword and has no special meaning in Python."
   ]
  },
  {
   "cell_type": "markdown",
   "id": "a622a633",
   "metadata": {},
   "source": [
    "Q 5. What is the purpose of the __init__ method?"
   ]
  },
  {
   "cell_type": "markdown",
   "id": "b3742280",
   "metadata": {},
   "source": [
    "ans :\n",
    "    "
   ]
  },
  {
   "cell_type": "markdown",
   "id": "ad649d69",
   "metadata": {},
   "source": [
    "\n",
    "\"__init__\" is a reseved method in python classes. It is called as a constructor in object oriented terminology. This method is called when an object is created from a class and it allows the class to initialize the attributes of the class."
   ]
  },
  {
   "cell_type": "markdown",
   "id": "b4541f55",
   "metadata": {},
   "source": [
    "Q 6. What is the process for creating a class instance?"
   ]
  },
  {
   "cell_type": "markdown",
   "id": "ed5d36bf",
   "metadata": {},
   "source": [
    "ans :"
   ]
  },
  {
   "cell_type": "markdown",
   "id": "d8a4395f",
   "metadata": {},
   "source": [
    "To create instances of a class, you call the class using class name and pass in whatever arguments its __init__ method accepts."
   ]
  },
  {
   "cell_type": "markdown",
   "id": "8ddddb9c",
   "metadata": {},
   "source": [
    "Q 7. What is the process for creating a class?"
   ]
  },
  {
   "cell_type": "markdown",
   "id": "989983dd",
   "metadata": {},
   "source": [
    "ans :"
   ]
  },
  {
   "cell_type": "markdown",
   "id": "fc532c24",
   "metadata": {},
   "source": [
    "A Class is like an object constructor, or a \"blueprint\" for creating objects.\n",
    "- Create a Class. To create a class, use the keyword class : ...\n",
    "- Create Object. Now we can use the class named MyClass to create objects: ...\n",
    "- The self Parameter. ...\n",
    "- Modify Object Properties. ...\n",
    "- Delete Object Properties. ...\n",
    "- Delete Objects."
   ]
  },
  {
   "cell_type": "markdown",
   "id": "7118e1a1",
   "metadata": {},
   "source": [
    "Q 8. How would you define the superclasses of a class?"
   ]
  },
  {
   "cell_type": "markdown",
   "id": "38060200",
   "metadata": {},
   "source": [
    "ans :"
   ]
  },
  {
   "cell_type": "markdown",
   "id": "adef3056",
   "metadata": {},
   "source": [
    "The class from which a class inherits is called the parent or superclass. A class which inherits from a superclass is called a subclass, also called heir class or child class. Superclasses are sometimes called ancestors as well."
   ]
  },
  {
   "cell_type": "code",
   "execution_count": null,
   "id": "c9d629e1",
   "metadata": {},
   "outputs": [],
   "source": []
  }
 ],
 "metadata": {
  "kernelspec": {
   "display_name": "Python 3 (ipykernel)",
   "language": "python",
   "name": "python3"
  },
  "language_info": {
   "codemirror_mode": {
    "name": "ipython",
    "version": 3
   },
   "file_extension": ".py",
   "mimetype": "text/x-python",
   "name": "python",
   "nbconvert_exporter": "python",
   "pygments_lexer": "ipython3",
   "version": "3.9.12"
  }
 },
 "nbformat": 4,
 "nbformat_minor": 5
}
