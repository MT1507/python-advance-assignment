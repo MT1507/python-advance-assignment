{
 "cells": [
  {
   "cell_type": "markdown",
   "id": "973ee371",
   "metadata": {},
   "source": [
    "Q 1. What is the relationship between classes and modules?"
   ]
  },
  {
   "cell_type": "markdown",
   "id": "ff2fe3ed",
   "metadata": {},
   "source": [
    "ans :"
   ]
  },
  {
   "cell_type": "markdown",
   "id": "73562201",
   "metadata": {},
   "source": [
    "So a module in python is simply a way to organize the code, and it contains either python classes or just functions. If you need those classes or functions in your project, you just import them. For instance, the math module in python contains just a bunch of functions, and you just call those needed ( math."
   ]
  },
  {
   "cell_type": "markdown",
   "id": "ffaee3d6",
   "metadata": {},
   "source": [
    "Q 2. How do you make instances and classes?"
   ]
  },
  {
   "cell_type": "markdown",
   "id": "c4659412",
   "metadata": {},
   "source": [
    "ans :"
   ]
  },
  {
   "cell_type": "markdown",
   "id": "d7d17189",
   "metadata": {},
   "source": [
    "To create instances of a class, you call the class using class name and pass in whatever arguments its __init__ method accepts."
   ]
  },
  {
   "cell_type": "markdown",
   "id": "900e3abd",
   "metadata": {},
   "source": [
    "Q 3. Where and how should be class attributes created?"
   ]
  },
  {
   "cell_type": "markdown",
   "id": "30a1d637",
   "metadata": {},
   "source": [
    "ans :"
   ]
  },
  {
   "cell_type": "markdown",
   "id": "f332a950",
   "metadata": {},
   "source": [
    "- A class attribute is shared by all instances of the class. To define a class attribute, you place it outside of the __init__() method.\n",
    "- Use class_name. ...\n",
    "- Use class attributes for storing class contants, track data across all instances, and setting default values for all instances of the class."
   ]
  },
  {
   "cell_type": "markdown",
   "id": "fe7a5ea2",
   "metadata": {},
   "source": [
    "Q 4. Where and how are instance attributes created?"
   ]
  },
  {
   "cell_type": "markdown",
   "id": "1bd09927",
   "metadata": {},
   "source": [
    "ans :"
   ]
  },
  {
   "cell_type": "markdown",
   "id": "dfda6443",
   "metadata": {},
   "source": [
    "An instance attribute is a Python variable belonging to one, and only one, object. This variable is only accessible in the scope of this object and it is defined inside the constructor function, __init__(self,..) of the class."
   ]
  },
  {
   "cell_type": "markdown",
   "id": "d93c35fc",
   "metadata": {},
   "source": [
    "Q 5. What does the term &quot;self&quot; in a Python class mean?"
   ]
  },
  {
   "cell_type": "markdown",
   "id": "ebd89f48",
   "metadata": {},
   "source": [
    "ans :"
   ]
  },
  {
   "cell_type": "markdown",
   "id": "af660fc9",
   "metadata": {},
   "source": [
    "The self parameter is a reference to the current instance of the class, and is used to access variables that belongs to the class."
   ]
  },
  {
   "cell_type": "markdown",
   "id": "8aa383fb",
   "metadata": {},
   "source": [
    "Q 6. How does a Python class handle operator overloading?"
   ]
  },
  {
   "cell_type": "markdown",
   "id": "c63d25fe",
   "metadata": {},
   "source": [
    "ans :"
   ]
  },
  {
   "cell_type": "markdown",
   "id": "b979dd39",
   "metadata": {},
   "source": [
    "Python operators work for built-in classes. But the same operator behaves differently with different types. For example, the + operator will perform arithmetic addition on two numbers, merge two lists, or concatenate two strings.\n"
   ]
  },
  {
   "cell_type": "markdown",
   "id": "60599575",
   "metadata": {},
   "source": [
    "Q 7. When do you consider allowing operator overloading of your classes?"
   ]
  },
  {
   "cell_type": "markdown",
   "id": "45d6907b",
   "metadata": {},
   "source": [
    "ans :"
   ]
  },
  {
   "cell_type": "markdown",
   "id": "c9b41753",
   "metadata": {},
   "source": [
    "For example, the + operator will perform arithmetic addition on two numbers, merge two lists, or concatenate two strings. This feature in Python that allows the same operator to have different meaning according to the context is called operator overloading."
   ]
  },
  {
   "cell_type": "markdown",
   "id": "fda967d5",
   "metadata": {},
   "source": [
    "Q 8. What is the most popular form of operator overloading?"
   ]
  },
  {
   "cell_type": "markdown",
   "id": "74fa7a04",
   "metadata": {},
   "source": [
    "Ans :\n",
    "    "
   ]
  },
  {
   "cell_type": "markdown",
   "id": "5ec47583",
   "metadata": {},
   "source": [
    "\n"
   ]
  },
  {
   "cell_type": "markdown",
   "id": "ac36c71f",
   "metadata": {},
   "source": [
    "A very popular and convenient example is the Addition (+) operator. Just think how the '+' operator operates on two numbers and the same operator operates on two strings. It performs “Addition” on numbers whereas it performs “Concatenation” on strings."
   ]
  },
  {
   "cell_type": "markdown",
   "id": "c03963eb",
   "metadata": {},
   "source": [
    "Q 9. What are the two most important concepts to grasp in order to comprehend Python OOP code?"
   ]
  },
  {
   "cell_type": "markdown",
   "id": "9366eb42",
   "metadata": {},
   "source": [
    "ans :"
   ]
  },
  {
   "cell_type": "markdown",
   "id": "4fc1ca10",
   "metadata": {},
   "source": [
    "Both inheritance and polymorphism are key ingredients for designing robust, flexible, and easy-to-maintain software."
   ]
  },
  {
   "cell_type": "code",
   "execution_count": null,
   "id": "ca60ad99",
   "metadata": {},
   "outputs": [],
   "source": []
  }
 ],
 "metadata": {
  "kernelspec": {
   "display_name": "Python 3 (ipykernel)",
   "language": "python",
   "name": "python3"
  },
  "language_info": {
   "codemirror_mode": {
    "name": "ipython",
    "version": 3
   },
   "file_extension": ".py",
   "mimetype": "text/x-python",
   "name": "python",
   "nbconvert_exporter": "python",
   "pygments_lexer": "ipython3",
   "version": "3.9.12"
  }
 },
 "nbformat": 4,
 "nbformat_minor": 5
}
