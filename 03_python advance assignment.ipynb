{
 "cells": [
  {
   "cell_type": "markdown",
   "id": "c7c073c3",
   "metadata": {},
   "source": [
    "Q 1. What is the concept of an abstract superclass?"
   ]
  },
  {
   "cell_type": "markdown",
   "id": "de5a15a6",
   "metadata": {},
   "source": [
    "ans :"
   ]
  },
  {
   "cell_type": "markdown",
   "id": "2fd40e3c",
   "metadata": {},
   "source": [
    "An abstract superclass is one way to provide re-usable code. You can extend the abstract class and inherit the code. This is sometimes more convenient than using static methods or object composition to share code. The abstract class can \"fix\" parts of the code (by making it final)."
   ]
  },
  {
   "cell_type": "markdown",
   "id": "81f8e1fd",
   "metadata": {},
   "source": [
    "Q 2. What happens when a class statement&#39;s top level contains a basic assignment statement?"
   ]
  },
  {
   "cell_type": "markdown",
   "id": "44108af5",
   "metadata": {},
   "source": [
    "ans :"
   ]
  },
  {
   "cell_type": "markdown",
   "id": "53d27dc5",
   "metadata": {},
   "source": [
    "An assignment statement evaluates the expression list (remember that this can be a single expression or a comma-separated list, the latter yielding a tuple) and assigns the single resulting object to each of the target lists, from left to right.\n",
    "when we use assignment statement at the top level of the class , the value we assign is available to all the functions of the class untill we override it."
   ]
  },
  {
   "cell_type": "markdown",
   "id": "c1b172c8",
   "metadata": {},
   "source": [
    "Q 3. Why does a class need to manually call a superclass&#39;s __init__ method?"
   ]
  },
  {
   "cell_type": "markdown",
   "id": "a3530a8e",
   "metadata": {},
   "source": [
    "ans :"
   ]
  },
  {
   "cell_type": "markdown",
   "id": "09c2e9d5",
   "metadata": {},
   "source": [
    "The super() function in Python makes class inheritance more manageable and extensible. The function returns a temporary object that allows reference to a parent class by the keyword super.\n",
    "The main reason for always calling base class _init__ is that base class may typically create member variable and initialize them to defaults. So if you don't call base class init, none of that code would be executed and you would end up with base class that has no member variables. Run this code."
   ]
  },
  {
   "cell_type": "markdown",
   "id": "5441ba83",
   "metadata": {},
   "source": [
    "Q 4. How can you augment, instead of completely replacing, an inherited method?"
   ]
  },
  {
   "cell_type": "markdown",
   "id": "a4149474",
   "metadata": {},
   "source": [
    "ans :"
   ]
  },
  {
   "cell_type": "markdown",
   "id": "85a893c2",
   "metadata": {},
   "source": [
    "A more sophisticated way to augment an inherited method involves forwarding. Message forwarding allows you to augment an inherited method in such a way that it can perform its inherited action and some new action.\n"
   ]
  },
  {
   "cell_type": "markdown",
   "id": "57f4144a",
   "metadata": {},
   "source": [
    "Q 5. How is the local scope of a class different from that of a function?"
   ]
  },
  {
   "cell_type": "markdown",
   "id": "0a9ccff3",
   "metadata": {},
   "source": [
    "ans :"
   ]
  },
  {
   "cell_type": "markdown",
   "id": "4183180b",
   "metadata": {},
   "source": [
    "Local (or function) scope is the code block or body of any Python function or lambda expression. This Python scope contains the names that you define inside the function. These names will only be visible from the code of the function."
   ]
  },
  {
   "cell_type": "markdown",
   "id": "6924d495",
   "metadata": {},
   "source": []
  },
  {
   "cell_type": "markdown",
   "id": "4f3be448",
   "metadata": {},
   "source": []
  },
  {
   "cell_type": "markdown",
   "id": "367ea823",
   "metadata": {},
   "source": []
  },
  {
   "cell_type": "code",
   "execution_count": null,
   "id": "b2fa5c02",
   "metadata": {},
   "outputs": [],
   "source": []
  }
 ],
 "metadata": {
  "kernelspec": {
   "display_name": "Python 3 (ipykernel)",
   "language": "python",
   "name": "python3"
  },
  "language_info": {
   "codemirror_mode": {
    "name": "ipython",
    "version": 3
   },
   "file_extension": ".py",
   "mimetype": "text/x-python",
   "name": "python",
   "nbconvert_exporter": "python",
   "pygments_lexer": "ipython3",
   "version": "3.9.12"
  }
 },
 "nbformat": 4,
 "nbformat_minor": 5
}
