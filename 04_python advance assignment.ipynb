{
 "cells": [
  {
   "cell_type": "markdown",
   "id": "36905d26",
   "metadata": {},
   "source": [
    "Q 1. Which two operator overloading methods can you use in your classes to support iteration?"
   ]
  },
  {
   "cell_type": "markdown",
   "id": "8cc48049",
   "metadata": {},
   "source": [
    "ans :"
   ]
  },
  {
   "cell_type": "markdown",
   "id": "1e88fbd5",
   "metadata": {},
   "source": [
    "Python supports both function and operator overloading. In function overloading, we can use the same name for many Python functions but with the different number or types of parameters. With operator overloading, we are able to change the meaning of a Python operator within the scope of a class."
   ]
  },
  {
   "cell_type": "markdown",
   "id": "e87df5c1",
   "metadata": {},
   "source": [
    "Q 2. In what contexts do the two operator overloading methods manage printing?"
   ]
  },
  {
   "cell_type": "markdown",
   "id": "de856cbe",
   "metadata": {},
   "source": [
    "ans :"
   ]
  },
  {
   "cell_type": "markdown",
   "id": "8b30f4db",
   "metadata": {},
   "source": [
    "The operator overloading in Python means provide extended meaning beyond their predefined operational meaning. Such as, we use the \"+\" operator for adding two integers as well as joining two strings or merging two lists. We can achieve this as the \"+\" operator is overloaded by the \"int\" class and \"str\" class."
   ]
  },
  {
   "cell_type": "markdown",
   "id": "54306a5e",
   "metadata": {},
   "source": [
    "Q 3. In a class, how do you intercept slice operations?"
   ]
  },
  {
   "cell_type": "markdown",
   "id": "0957982f",
   "metadata": {},
   "source": [
    "ans :"
   ]
  },
  {
   "cell_type": "markdown",
   "id": "aacbd4a5",
   "metadata": {},
   "source": [
    "The slice() method returns a portion of an iterable as an object of the slice class based on the specified range. It can be used with string, list, tuple, set, bytes, or range objects or custom class object that implements sequence methods __getitem__() and __len__() methods."
   ]
  },
  {
   "cell_type": "markdown",
   "id": "7fee14cd",
   "metadata": {},
   "source": [
    "Q 4. In a class, how do you capture in-place addition?"
   ]
  },
  {
   "cell_type": "markdown",
   "id": "1b0d196e",
   "metadata": {},
   "source": [
    "ans :\n"
   ]
  },
  {
   "cell_type": "markdown",
   "id": "1f76e1ee",
   "metadata": {},
   "source": [
    "Python provides the operator x += y to add two objects in-place by calculating the sum x + y and assigning the result to the first operands variable name x . You can set up the in-place addition behavior for your own class by overriding the magic “dunder” method __iadd__(self, other) in your class definition."
   ]
  },
  {
   "cell_type": "markdown",
   "id": "57703bdc",
   "metadata": {},
   "source": [
    "Q 5. When is it appropriate to use operator overloading?"
   ]
  },
  {
   "cell_type": "markdown",
   "id": "b2bc0627",
   "metadata": {},
   "source": [
    "ans :\n"
   ]
  },
  {
   "cell_type": "markdown",
   "id": "98207386",
   "metadata": {},
   "source": [
    "The operator overloading in Python means provide extended meaning beyond their predefined operational meaning. Such as, we use the \"+\" operator for adding two integers as well as joining two strings or merging two lists. We can achieve this as the \"+\" operator is overloaded by the \"int\" class and \"str\" class.\""
   ]
  },
  {
   "cell_type": "markdown",
   "id": "441f2f09",
   "metadata": {},
   "source": []
  },
  {
   "cell_type": "markdown",
   "id": "3bcd6f45",
   "metadata": {},
   "source": []
  }
 ],
 "metadata": {
  "kernelspec": {
   "display_name": "Python 3 (ipykernel)",
   "language": "python",
   "name": "python3"
  },
  "language_info": {
   "codemirror_mode": {
    "name": "ipython",
    "version": 3
   },
   "file_extension": ".py",
   "mimetype": "text/x-python",
   "name": "python",
   "nbconvert_exporter": "python",
   "pygments_lexer": "ipython3",
   "version": "3.9.12"
  }
 },
 "nbformat": 4,
 "nbformat_minor": 5
}
